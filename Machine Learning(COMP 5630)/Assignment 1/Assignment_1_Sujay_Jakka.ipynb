{
  "cells": [
    {
      "cell_type": "code",
      "source": [],
      "metadata": {
        "id": "FylX9RtXNvuf"
      },
      "execution_count": null,
      "outputs": []
    },
    {
      "cell_type": "markdown",
      "source": [
        "README\n",
        "\n",
        "The only depedencies that are required are the following libraries: NumPy, Matplotlib, and Pandas.\n",
        "\n",
        "The notebook needs the following files to run: x_train.npy, y_train.npy, x_test.npy, y_test.npy, and Housing_data_regression.xlsx."
      ],
      "metadata": {
        "id": "6pZ6Hs_bZBpL"
      }
    },
    {
      "cell_type": "code",
      "execution_count": null,
      "metadata": {
        "id": "Ur03jbqo_YLv"
      },
      "outputs": [],
      "source": [
        "import numpy as np\n",
        "import matplotlib.pyplot as plt\n",
        "\n",
        "class Linear_Regression:\n",
        "  def __init__(self, data_matrix, theta, learning_rate = 0):\n",
        "    self.data_matrix = data_matrix\n",
        "    self.num_examples = np.shape(data_matrix)[0]\n",
        "    self.residuals_vector = np.zeros(self.num_examples)\n",
        "    self.theta = theta\n",
        "    self.learning_rate = learning_rate\n",
        "    self.W = np.zeros((self.num_examples, self.num_examples))\n",
        "\n",
        "  # Returns prediction when given feature vector\n",
        "  # Updates residuals vector across examples\n",
        "  def lr_prediction(self, feature_vector, target_value, example_number):\n",
        "    prediction = np.dot(self.theta, feature_vector)\n",
        "    self.residuals_vector[example_number] = target_value - prediction\n",
        "    return prediction\n",
        "\n",
        "  # Finds Mean Squared Error\n",
        "  def lr_mean_squared_error(self):\n",
        "    return np.sum(np.square(self.residuals_vector)) / self.num_examples\n",
        "\n",
        "  # Find weights for locally weighted linear regression\n",
        "  def find_weights_lw_lr(self, query_features, bandwidth_parameter):\n",
        "    for i in range(self.num_examples):\n",
        "      training_vector = self.data_matrix[i, :-1]\n",
        "      distance = np.linalg.norm(training_vector - query_features)\n",
        "      W_i = np.exp((-1 * np.square(distance)) / (2 * np.square(bandwidth_parameter)))\n",
        "      self.W[i][i] = W_i\n",
        "\n",
        "  # Gradient Descent Function for Linear Regression\n",
        "  def lr_gradient_descent(self, epochs):\n",
        "\n",
        "    for i in range(epochs):\n",
        "\n",
        "      # Shuffle my data for each epoch\n",
        "      np.random.shuffle(self.data_matrix)\n",
        "\n",
        "      # Find residuals for each example\n",
        "      for j in range(self.num_examples):\n",
        "        self.lr_prediction(self.data_matrix[j, :-1], self.data_matrix[j, -1], j)\n",
        "\n",
        "      # Derivative of the loss function with respect to theta\n",
        "      derivative_vector = np.dot(self.residuals_vector, self.data_matrix[:, :-1])\n",
        "\n",
        "      # Divide by number of examples and Multiply by Learning Rate\n",
        "      update = derivative_vector * ((2 / self.num_examples) * self.learning_rate)\n",
        "\n",
        "      # Update theta parameters\n",
        "      self.theta = np.add(self.theta, update)\n",
        "\n",
        "\n",
        "  # Gradient Descent Function for Locally Weighted Linear Regression\n",
        "  def lw_lr_gradient_descent(self, query_features, epochs, bandwidth_parameter):\n",
        "\n",
        "    # Find weights for each training example\n",
        "    self.find_weights_lw_lr(query_features, bandwidth_parameter)\n",
        "\n",
        "    for i in range(epochs):\n",
        "\n",
        "      # Find residuals for each example\n",
        "      for j in range(self.num_examples):\n",
        "        self.lr_prediction(self.data_matrix[j, :-1], self.data_matrix[j, -1], j)\n",
        "\n",
        "      # Derivative of the loss function with respect to theta\n",
        "      derivative_vector = np.dot(np.dot(self.data_matrix[:, :-1].T, self.W), self.residuals_vector)\n",
        "\n",
        "      # Divide by number of examples and Multiply by Learning Rate\n",
        "      update = derivative_vector * ((2 / self.num_examples) * self.learning_rate)\n",
        "\n",
        "      # Update theta Parameters\n",
        "      self.theta = np.add(self.theta, update)\n",
        "\n",
        "  # Normal Equations Function for Locally Weighted Linear Regression\n",
        "  def lr_normal_quations(self):\n",
        "\n",
        "    A = np.dot(self.data_matrix[:, :-1].T, self.data_matrix[:, :-1])\n",
        "\n",
        "    # Find determinant to check if A has an inverse\n",
        "    determinant = np.linalg.det(A)\n",
        "\n",
        "    if determinant != 0:\n",
        "      A_inv = np.linalg.inv(A)\n",
        "      B = np.dot(A_inv, self.data_matrix[:, :-1].T)\n",
        "      self.theta = np.dot(B, self.data_matrix[:, -1])\n",
        "\n",
        "    else:\n",
        "      print(\"Matrix is singular, cannot find theta.\")\n",
        "\n",
        "\n",
        "  # Normal Equations Function for Locally Weighted Linear Regression\n",
        "  def lw_lr_normal_quations(self, query_features, bandwidth_parameter):\n",
        "\n",
        "    # Find weights for each training example\n",
        "    self.find_weights_lw_lr(query_features, bandwidth_parameter)\n",
        "\n",
        "    A = np.dot(np.dot(self.data_matrix[:, :-1].T, self.W), self.data_matrix[:, :-1])\n",
        "\n",
        "    # Find determinant to check if A has an inverse\n",
        "    determinant = np.linalg.det(A)\n",
        "\n",
        "    if determinant != 0:\n",
        "      A_inv = np.linalg.inv(A)\n",
        "      B = np.dot(A_inv, self.data_matrix[:, :-1].T)\n",
        "      C = np.dot(B, self.W)\n",
        "      self.theta = np.dot(C, self.data_matrix[:, -1])\n",
        "\n",
        "    else:\n",
        "      print(\"Matrix is singular, cannot find theta.\")\n",
        "\n",
        "\n"
      ]
    },
    {
      "cell_type": "code",
      "execution_count": null,
      "metadata": {
        "colab": {
          "base_uri": "https://localhost:8080/",
          "height": 539
        },
        "id": "mtR1tmAh9FqW",
        "outputId": "ab9ab3d6-331b-427a-c6f8-83d2ecb4f221"
      },
      "outputs": [
        {
          "output_type": "stream",
          "name": "stdout",
          "text": [
            "MSE for Training Data\n",
            "190.14893280390493\n"
          ]
        },
        {
          "output_type": "display_data",
          "data": {
            "text/plain": [
              "<Figure size 640x480 with 1 Axes>"
            ],
            "image/png": "[encoded data removed]"
          },
          "metadata": {}
        },
        {
          "output_type": "stream",
          "name": "stdout",
          "text": [
            "Theta Parameters\n",
            "[-0.17273994  0.76022019 -0.93693978  1.63100159 -4.50861899  1.69309372\n",
            " -0.41927821  0.84704868]\n"
          ]
        }
      ],
      "source": [
        "# Problem 1 Training\n",
        "\n",
        "# Retrieve data from training files\n",
        "x_train_data = np.load(\"x_train.npy\")\n",
        "y_train_data = np.load(\"y_train.npy\")\n",
        "\n",
        "# Number of Examples in Training\n",
        "num_examples_training = np.size(x_train_data)\n",
        "\n",
        "# Using a Polynomial Basis Function of Degree 7 for a 1-d feature vector\n",
        "# Weight vector need to be of size 8\n",
        "# Initializing Random Weights\n",
        "theta = np.random.randn(8)\n",
        "\n",
        "# Initialize Learning Rate\n",
        "learning_rate = .0000025\n",
        "\n",
        "# Keeps track of all of the features and target values across examples\n",
        "data_matrix_training = np.zeros((num_examples_training, np.size(theta) + 1))\n",
        "\n",
        "# Creates Features through Polynomial Basis Functions for Training\n",
        "for i in range(num_examples_training):\n",
        "  feature_vector = np.zeros(np.size(theta))\n",
        "  for j in range(np.size(theta)):\n",
        "    feature_vector[j] = np.power(x_train_data[i], j)\n",
        "  data_matrix_training[i, :-1] = feature_vector\n",
        "\n",
        "# Set the last column in my data matrix to the target values for each example\n",
        "data_matrix_training[:, -1] = y_train_data\n",
        "\n",
        "# Plot training data to see relationship\n",
        "plt.title(\"Training Data\")\n",
        "plt.scatter(x_train_data, y_train_data, color = \"blue\", label = \"Target Values\")\n",
        "\n",
        "# Create Linear Regression Object to conduct Linear Regression for Training\n",
        "LR_obj_training = Linear_Regression(data_matrix_training, theta, learning_rate)\n",
        "\n",
        "# Training\n",
        "LR_obj_training.lr_gradient_descent(10000)\n",
        "\n",
        "# Initialize Predictor Vector for Training\n",
        "y_predictions_training = np.zeros(num_examples_training)\n",
        "\n",
        "for i in range(num_examples_training):\n",
        "  prediction = LR_obj_training.lr_prediction(data_matrix_training[i, :-1], data_matrix_training[i, -1], i)\n",
        "  y_predictions_training[i] = prediction\n",
        "\n",
        "# Find MSE in Training\n",
        "# Plot Predictions\n",
        "print(\"MSE for Training Data\")\n",
        "print(LR_obj_training.lr_mean_squared_error())\n",
        "plt.scatter(data_matrix_training[:, 1], y_predictions_training, color = \"red\", label = \"Predicted Values\")\n",
        "plt.legend()\n",
        "plt.show()\n",
        "\n",
        "# Print theta\n",
        "print(\"Theta Parameters\")\n",
        "print(LR_obj_training.theta)\n"
      ]
    },
    {
      "cell_type": "code",
      "execution_count": null,
      "metadata": {
        "colab": {
          "base_uri": "https://localhost:8080/"
        },
        "id": "Rh26q67O5VER",
        "outputId": "8e9246ca-026e-4852-833d-9c876c65ac2f"
      },
      "outputs": [
        {
          "output_type": "stream",
          "name": "stdout",
          "text": [
            "MSE for Testing Data\n",
            "77.08701696486905\n"
          ]
        }
      ],
      "source": [
        "# Problem 1 Testing\n",
        "\n",
        "# Retrieve data from testing files\n",
        "x_test_data = np.load(\"x_test.npy\")\n",
        "y_test_data = np.load(\"y_test.npy\")\n",
        "\n",
        "# Number of Examples in Testing\n",
        "num_examples_testing = np.size(x_test_data)\n",
        "\n",
        "# Keeps track of all of the features and target values across examples\n",
        "data_matrix_testing = np.zeros((num_examples_testing, np.size(LR_obj_training.theta) + 1))\n",
        "\n",
        "# Creates Features through Polynomial Basis Functions for Testing\n",
        "for i in range(num_examples_testing):\n",
        "  feature_vector = np.zeros(np.size(LR_obj_training.theta))\n",
        "  for j in range(np.size(theta)):\n",
        "    feature_vector[j] = np.power(x_test_data[i], j)\n",
        "  data_matrix_testing[i, :-1] = feature_vector\n",
        "\n",
        "# Set the last column in my data matrix to the target values for each example\n",
        "data_matrix_testing[:, -1] = y_test_data\n",
        "\n",
        "# Create Linear Regression Object to conduct Linear Regression for Testing\n",
        "LR_obj_testing = Linear_Regression(data_matrix_testing, LR_obj_training.theta)\n",
        "\n",
        "# Initialize Predictor Vector for Testing\n",
        "y_predictions_testing = np.zeros(num_examples_testing)\n",
        "\n",
        "for i in range(num_examples_testing):\n",
        "  prediction = LR_obj_testing.lr_prediction(data_matrix_testing[i, :-1], data_matrix_testing[i, -1], i)\n",
        "  y_predictions_testing[i] = prediction\n",
        "\n",
        "# Find MSE in Testing\n",
        "print(\"MSE for Testing Data\")\n",
        "print(LR_obj_testing.lr_mean_squared_error())\n",
        "\n"
      ]
    },
    {
      "cell_type": "code",
      "execution_count": null,
      "metadata": {
        "colab": {
          "base_uri": "https://localhost:8080/"
        },
        "id": "gGkAmZLTV7G2",
        "outputId": "24babe5d-3605-4cee-d67d-0b4e2ab90703"
      },
      "outputs": [
        {
          "output_type": "stream",
          "name": "stdout",
          "text": [
            "MSE for Training Data\n",
            "6730630576.291383\n",
            "Theta Parameters\n",
            "[   548.44818547 141917.48180335   9630.09068674 198100.31521405\n",
            "  44304.73665164  71253.16182289 -45574.45729358  -4324.29087868\n",
            " -62124.84955467]\n"
          ]
        }
      ],
      "source": [
        "# Problem 2 Training With all Features\n",
        "import pandas as pd\n",
        "\n",
        "# Read data from excel sheet\n",
        "df = pd.read_excel(\"Housing_data_regression.xlsx\")\n",
        "\n",
        "# Convert data into Numpy Matrix\n",
        "data = df.values\n",
        "\n",
        "# Create and populate data matrix\n",
        "data_matrix_training = np.zeros((np.shape(data)[0], np.shape(data)[1] + 1))\n",
        "data_matrix_training[:, :-2] = data[:, :-1]\n",
        "data_matrix_training[:, -2] = 1\n",
        "data_matrix_training[:, -1] = data[:, -1]\n",
        "\n",
        "# Initializing Random Weights\n",
        "# Vector has length of the features plus 1\n",
        "theta = np.random.randn(np.shape(data_matrix_training)[1] - 1)\n",
        "\n",
        "# Initialize Learning Rate\n",
        "learning_rate = .000575\n",
        "\n",
        "# Create Linear Regression Object to conduct Linear Regression for Training\n",
        "LR_obj_training = Linear_Regression(data_matrix_training, theta, learning_rate)\n",
        "\n",
        "# Training\n",
        "LR_obj_training.lr_gradient_descent(10000)\n",
        "\n",
        "# Find MSE in Training\n",
        "print(\"MSE for Training Data\")\n",
        "print(LR_obj_training.lr_mean_squared_error())\n",
        "\n",
        "# Print Weight Vector\n",
        "print(\"Theta Parameters\")\n",
        "print(LR_obj_training.theta)\n",
        "\n",
        "\n"
      ]
    },
    {
      "cell_type": "code",
      "execution_count": null,
      "metadata": {
        "colab": {
          "base_uri": "https://localhost:8080/"
        },
        "id": "RhwIvEZS6Tu7",
        "outputId": "7d489c50-3a91-454f-f134-f62f5cce1686"
      },
      "outputs": [
        {
          "output_type": "stream",
          "name": "stdout",
          "text": [
            "MSE for Training Data\n",
            "12282616798.30218\n",
            "Theta Parameters\n",
            "[478405.49782438 -27219.37595541]\n"
          ]
        }
      ],
      "source": [
        "# Problem 2 Training with only the feature with the most effect\n",
        "\n",
        "# Using only Fourth Feature(Living Area) to Train\n",
        "# Fourth Feature's corresponding weight parameter has the largest magnitude\n",
        "\n",
        "# Creating data matrix for one feature\n",
        "data_matrix_one_feature = np.zeros((np.shape(data_matrix_training)[0], 3))\n",
        "data_matrix_one_feature[:, 0] = data_matrix_training[:, 3]\n",
        "data_matrix_one_feature[:, 1] = 1\n",
        "data_matrix_one_feature[:, 2] = data_matrix_training[:, -1]\n",
        "\n",
        "# Initializing Random Weights\n",
        "theta = np.random.randn(2)\n",
        "\n",
        "# Initialize Learning Rate\n",
        "learning_rate = .25\n",
        "\n",
        "# Create Linear Regression Object to conduct Linear Regression for Training\n",
        "LR_obj_training_one_feature = Linear_Regression(data_matrix_one_feature, theta, learning_rate)\n",
        "\n",
        "# Training\n",
        "LR_obj_training_one_feature.lr_gradient_descent(10000)\n",
        "\n",
        "# Find MSE in Training\n",
        "print(\"MSE for Training Data\")\n",
        "print(LR_obj_training_one_feature.lr_mean_squared_error())\n",
        "\n",
        "# Print Weight Vector\n",
        "print(\"Theta Parameters\")\n",
        "print(LR_obj_training_one_feature.theta)"
      ]
    },
    {
      "cell_type": "code",
      "execution_count": null,
      "metadata": {
        "colab": {
          "base_uri": "https://localhost:8080/"
        },
        "id": "cK9IYd_6v3En",
        "outputId": "f47211ac-ddb5-4eac-8fba-922964bacdcc"
      },
      "outputs": [
        {
          "output_type": "stream",
          "name": "stdout",
          "text": [
            "MSE for Training Data\n",
            "6621365486.993344\n",
            "Theta Parameters\n",
            "[144250.04211364  10317.62713278 202475.77941896  44370.42065489\n",
            "  70279.03528069 -46749.48198005  -4205.10393138 -64770.73974029]\n"
          ]
        }
      ],
      "source": [
        "# Problem 2 Using all the features except the feature with the least effect\n",
        "\n",
        "# Using all features except for the first feature(House ID)\n",
        "# Creating data matrix\n",
        "data_matrix_less_one = np.zeros((np.shape(data_matrix_training)[0], 9))\n",
        "data_matrix_less_one = data_matrix_training[:, 1:]\n",
        "\n",
        "# Initializing Random Weights\n",
        "theta = np.random.randn(8)\n",
        "\n",
        "# Initialize Learning Rate\n",
        "learning_rate = .0006\n",
        "\n",
        "# Create Linear Regression Object to conduct Linear Regression for Training\n",
        "LR_obj_training_less_one = Linear_Regression(data_matrix_less_one, theta, learning_rate)\n",
        "\n",
        "# Training\n",
        "LR_obj_training_less_one.lr_gradient_descent(10000)\n",
        "\n",
        "# Find MSE in Training\n",
        "print(\"MSE for Training Data\")\n",
        "print(LR_obj_training_less_one.lr_mean_squared_error())\n",
        "\n",
        "# Print Weight Vector\n",
        "print(\"Theta Parameters\")\n",
        "print(LR_obj_training_less_one.theta)\n"
      ]
    },
    {
      "cell_type": "code",
      "execution_count": null,
      "metadata": {
        "colab": {
          "base_uri": "https://localhost:8080/"
        },
        "id": "myKCEIgVCk4S",
        "outputId": "9ef41f67-31c3-4c9b-b8ba-44d7cd5113e6"
      },
      "outputs": [
        {
          "output_type": "stream",
          "name": "stdout",
          "text": [
            "MSE for Test Data\n",
            "0.6332295851203943\n"
          ]
        }
      ],
      "source": [
        "# Problem 3\n",
        "# Using Locally Weighted Linear Regression to predict Test Data from Problem 1\n",
        "\n",
        "# Retrieve data from training files\n",
        "x_train_data = np.load(\"x_train.npy\")\n",
        "y_train_data = np.load(\"y_train.npy\")\n",
        "\n",
        "# Number of Examples\n",
        "num_examples_training = np.size(x_train_data)\n",
        "\n",
        "# Bandwidth Parameter\n",
        "bandwidth_parameter = .05\n",
        "\n",
        "# Keeps track of all of the features and target values across examples\n",
        "data_matrix_training = np.zeros((num_examples_training, 3))\n",
        "\n",
        "# Creates and Populates Data Matrix for Training\n",
        "data_matrix_training[:, 0] = x_train_data\n",
        "data_matrix_training[:, 1] = 1\n",
        "data_matrix_training[:, 2] = y_train_data\n",
        "\n",
        "# Retrieve data from testing files\n",
        "x_test_data = np.load(\"x_test.npy\")\n",
        "y_test_data = np.load(\"y_test.npy\")\n",
        "\n",
        "# Number of Examples\n",
        "num_examples_testing = np.size(x_test_data)\n",
        "\n",
        "mse = 0\n",
        "predictions = np.zeros(num_examples_testing)\n",
        "\n",
        "# Finds theta using Normal Equations\n",
        "# Find squared residuals for testing examples\n",
        "for i in range(num_examples_testing):\n",
        "  theta = np.random.randn(2)\n",
        "  LR_obj_lw = Linear_Regression(data_matrix_training, theta)\n",
        "\n",
        "  query_features = np.array([x_test_data[i], 1])\n",
        "\n",
        "  LR_obj_lw.lw_lr_normal_quations(query_features, bandwidth_parameter)\n",
        "  prediction = np.dot(LR_obj_lw.theta, query_features)\n",
        "\n",
        "  predictions[i] = prediction\n",
        "\n",
        "  mse += np.square(prediction - y_test_data[i])\n",
        "\n",
        "print(\"MSE for Test Data\")\n",
        "print(mse)\n",
        "\n"
      ]
    },
    {
      "cell_type": "markdown",
      "source": [
        "**Report**\n",
        "\n",
        "**Problem 1**\n",
        "\n",
        "I implemented linear regression for problem 1 by using a class structure. Where the class has instance variables such as a data matrix that contains all the features and target values across examples, the learning rate, and theta vector. The class also has the necessary functions to execute linear regression both through gradient descent and normal equations. The gradient descent implementation can be explained by two main functions. The first function I created called lr_prediction which basically takes the dot product between a feature vector for a example and the theta vector to find the predicted value. It also subtracts our prediction value from our target value to find our residual for that example. Then the function updates our residual vector. The residual vector keeps track of all the residuals across examples for a epoch. The second main function which is called lr_gradient_descent finds the gradient of the loss function with respect to theta using the residual vector the feature matrix of our examples. It then uses this gradient to find our update to our paramters by using the input learning rate.\n",
        "\n",
        "When I first plotted the training data, I initally though the data was non-linear and followed a cubic trend. So I used a 3rd degree basis function however the best mean squared error I could derive from this approach was 18317. Then I started experimenting with higher order polynomials and I landed on using a 7th degree polynomial. I was able to get a mean squared error of approximately 190 for my training data. The scatter plot of the predictions my model had on the training data vs the actual target values of the training data is shown on the output of the second code block. The final equation I derived is approximately y = 0.85x^7 - 0.42x^6 + 1.69x^5 - 4.51x^4 + 1.63x^3 - 0.94x^2 + 0.76x - 0.17. I then tested my model on the training data and I was able to get a mean squared error of approximately 77.\n",
        "\n",
        "\n",
        "**Problem 2**\n",
        "\n",
        "Question 1\n",
        "\n",
        "The average least squares error using a simple linear regression model was 6730630576.\n",
        "\n",
        "Question 2\n",
        "\n",
        "The factor that has the most effect on the final value is Living Area. The corresponding theta parameter to this had a magnitude of 198100 which was the largest out of all the feature variables. I could not use only this feature to predict the housing price. When using all the features I got a MSE of 6730630576, when using only the feature with the most effect I got a MSE of 12282616798.\n",
        "\n",
        "Question 3\n",
        "\n",
        "The factor that has the least effect on the final value is the first parameter which is House ID. This feature's corresponding theta parameter had a magnitude of 548. The MSE when we remove this feature improves a substantial amount. MSE with this feature is 6730630576 and the MSE without this feature is 6621365486.\n",
        "\n",
        "\n",
        "**Problem 3**\n",
        "\n",
        "Question 1\n",
        "\n",
        "I do not need any basis function when using the locally weighted approach. Without basis functions I was able to get a MSE of approximately 0.63 for the testing data which is very low.\n",
        "\n",
        "Question 2\n",
        "\n",
        "The difference with this implementation compared to the one for problem 1 was that in this implementation we are finding the optimal theta vector for each example in our testing data.\n",
        "In regular linear regression, we find the optimal theta vector across examples in our training set. In locally weighted linear regression, the way we find the optimal theta vector for a query point in our testing set is to assign weights to each of the points in our training data, where the training points closer to our query point have a larger weight. I was not able to get good results using the gradient descent approach for locally weighted linear regression as I had trouble finding the right learning rate and epoch value. I used a normal equations approach which I was able to get a MSE of approximatley 0.63 which was better than my linear regression approach with basis functions where I had a MSE of approximately 77.09.\n",
        "\n"
      ],
      "metadata": {
        "id": "QxgEqFKTZYej"
      }
    }
  ],
  "metadata": {
    "colab": {
      "provenance": []
    },
    "kernelspec": {
      "display_name": "Python 3",
      "name": "python3"
    },
    "language_info": {
      "name": "python"
    }
  },
  "nbformat": 4,
  "nbformat_minor": 0
}